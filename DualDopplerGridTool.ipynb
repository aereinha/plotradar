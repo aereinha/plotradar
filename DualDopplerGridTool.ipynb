{
 "cells": [
  {
   "cell_type": "code",
   "execution_count": 1,
   "metadata": {
    "collapsed": false
   },
   "outputs": [
    {
     "name": "stderr",
     "output_type": "stream",
     "text": [
      ":0: FutureWarning: IPython widgets are experimental and may change in the future.\n"
     ]
    }
   ],
   "source": [
    "import numpy as np\n",
    "import matplotlib.pyplot as plt\n",
    "from IPython.html import widgets # Widget definitions\n",
    "from IPython.display import display # Used to display widgets in the notebook\n",
    "from calcgrid import calcgrid\n",
    "import glob"
   ]
  },
  {
   "cell_type": "code",
   "execution_count": 2,
   "metadata": {
    "collapsed": false
   },
   "outputs": [],
   "source": [
    "def onclickgridb(event):\n",
    "    centerlat,centerlon = calcgrid(r1lattxt.value,r1lontxt.value,r2lattxt.value,r2lontxt.value,baselineangle.value)\n",
    "    print centerlat\n",
    "    print centerlon"
   ]
  },
  {
   "cell_type": "code",
   "execution_count": 3,
   "metadata": {
    "collapsed": false
   },
   "outputs": [],
   "source": [
    "r1lattxt = widgets.FloatText(description=\"Radar 1 Lat\\n\",value='40.0')\n",
    "r1lontxt = widgets.FloatText(description=\"Radar 1 Lon \\n\",value='-102.0')\n",
    "\n",
    "r2lattxt = widgets.FloatText(description=\"Radar 2 Lat\\n\",value='40.01')\n",
    "r2lontxt = widgets.FloatText(description=\"Radar 2 Lon \\n\",value='-102.01')\n",
    "\n",
    "baselineangle = widgets.FloatText(description=\"Baseline angle from Radar 1 \\n\", value='0.0')\n",
    "calclobeb = widgets.Button(description='Calculate center of lobe')\n",
    "radarsCtrl =widgets.Box()\n",
    "radarsCtrl.children = [r1lattxt, r1lontxt, r2lattxt, r2lontxt,baselineangle,calclobeb]\n",
    "calclobeb.on_click(onclickgridb)"
   ]
  },
  {
   "cell_type": "code",
   "execution_count": 4,
   "metadata": {
    "collapsed": false
   },
   "outputs": [
    {
     "name": "stdout",
     "output_type": "stream",
     "text": [
      "-102.008202195\n",
      "40.0063072216\n"
     ]
    }
   ],
   "source": [
    "display(radarsCtrl)"
   ]
  },
  {
   "cell_type": "code",
   "execution_count": null,
   "metadata": {
    "collapsed": true
   },
   "outputs": [],
   "source": []
  }
 ],
 "metadata": {
  "kernelspec": {
   "display_name": "Python 2",
   "language": "python",
   "name": "python2"
  },
  "language_info": {
   "codemirror_mode": {
    "name": "ipython",
    "version": 2
   },
   "file_extension": ".py",
   "mimetype": "text/x-python",
   "name": "python",
   "nbconvert_exporter": "python",
   "pygments_lexer": "ipython2",
   "version": "2.7.6"
  }
 },
 "nbformat": 4,
 "nbformat_minor": 0
}
