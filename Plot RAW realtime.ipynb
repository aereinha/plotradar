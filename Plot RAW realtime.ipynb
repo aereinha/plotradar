{
 "cells": [
  {
   "cell_type": "code",
   "execution_count": 1,
   "metadata": {
    "collapsed": false
   },
   "outputs": [
    {
     "name": "stderr",
     "output_type": "stream",
     "text": [
      "/Users/aereinha/Library/Enthought/Canopy_64bit/User/lib/python2.7/site-packages/IPython/html.py:14: ShimWarning: The `IPython.html` package has been deprecated. You should import from `notebook` instead. `IPython.html.widgets` has moved to `ipywidgets`.\n",
      "  \"`IPython.html.widgets` has moved to `ipywidgets`.\", ShimWarning)\n"
     ]
    }
   ],
   "source": [
    "import numpy as np\n",
    "import matplotlib.pyplot as plt\n",
    "import pyart\n",
    "import glob\n",
    "from IPython.html import widgets # Widget definitions\n",
    "from IPython.display import display # Used to display widgets in the notebook\n",
    "import SigmentRotationCheck as check\n",
    "import getlastrawfile"
   ]
  },
  {
   "cell_type": "code",
   "execution_count": 2,
   "metadata": {
    "collapsed": false
   },
   "outputs": [],
   "source": [
    "def onclickplotb(event):\n",
    "    plotb.button_style='success'\n",
    "    check.runplotting(r1fileloc.value,r1lattxt.value,r1lontxt.value,r1rottxt.value)\n",
    "#def onclickgetraw(event):\n",
    "#    out = getlastrawfile.getlastrawfile(r1fileloc.value,iska2.value)\n",
    "#    if out:\n",
    "#        getrawb.button_style='success'\n",
    "#    else:\n",
    "#        getrawb.button_style='danger'\n",
    "    "
   ]
  },
  {
   "cell_type": "code",
   "execution_count": 7,
   "metadata": {
    "collapsed": false
   },
   "outputs": [],
   "source": [
    "r1fileloc = widgets.Text(description='File Location:\\n',value=\"/Users/aereinha/radars\")\n",
    "#getrawb  = widgets.Button(description='Get last RAW from RADAR')\n",
    "#iska2 = widgets.Checkbox(description=\"Am I KA-2?\", value=False)\n",
    "r1lattxt = widgets.FloatText(description=\"Radar Lat\\n\",value='40.0')\n",
    "r1lontxt = widgets.FloatText(description=\"Radar Lon \\n\",value='-102.0')\n",
    "r1rottxt = widgets.FloatText(description=\"Radar Heading \\n\", value='0.0')\n",
    "plotb = widgets.Button(description=\"Plot\")\n",
    "radarsCtrl =widgets.Box()\n",
    "radarsCtrl.children = [r1fileloc,r1lattxt, r1lontxt, r1rottxt,plotb]\n",
    "plotb.on_click(onclickplotb)\n",
    "#getrawb.on_click(onclickgetraw)"
   ]
  },
  {
   "cell_type": "code",
   "execution_count": 8,
   "metadata": {
    "collapsed": false
   },
   "outputs": [],
   "source": [
    "display(radarsCtrl)"
   ]
  },
  {
   "cell_type": "code",
   "execution_count": null,
   "metadata": {
    "collapsed": true
   },
   "outputs": [],
   "source": []
  },
  {
   "cell_type": "code",
   "execution_count": null,
   "metadata": {
    "collapsed": true
   },
   "outputs": [],
   "source": []
  }
 ],
 "metadata": {
  "kernelspec": {
   "display_name": "Python 2",
   "language": "python",
   "name": "python2"
  },
  "language_info": {
   "codemirror_mode": {
    "name": "ipython",
    "version": 2
   },
   "file_extension": ".py",
   "mimetype": "text/x-python",
   "name": "python",
   "nbconvert_exporter": "python",
   "pygments_lexer": "ipython2",
   "version": "2.7.6"
  }
 },
 "nbformat": 4,
 "nbformat_minor": 0
}
